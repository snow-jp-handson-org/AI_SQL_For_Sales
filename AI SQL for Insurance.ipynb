{
 "metadata": {
  "kernelspec": {
   "display_name": "Streamlit Notebook",
   "name": "streamlit"
  },
  "lastEditStatus": {
   "notebookId": "rdamoblevhvsxrgsofot",
   "authorId": "136664994914",
   "authorName": "SAKURAGI",
   "authorEmail": "yuki.sakuragi@snowflake.com",
   "sessionId": "265cd9ef-7175-4fdf-8ae7-54aafbce9f6c",
   "lastEditTime": 1753711772631
  }
 },
 "nbformat_minor": 5,
 "nbformat": 4,
 "cells": [
  {
   "cell_type": "markdown",
   "id": "e1d9d3b1-d206-4bb9-a4eb-aab0572dbedb",
   "metadata": {
    "name": "Title",
    "collapsed": false
   },
   "source": "# AI/LLM HandsOn for Beginners"
  },
  {
   "cell_type": "markdown",
   "id": "4dd831b5-2cdc-4c11-a9aa-c221ac28a41c",
   "metadata": {
    "name": "ai_sql",
    "collapsed": false
   },
   "source": "## 01. AI SQL\n![IMAGE](https://lh3.googleusercontent.com/pw/AP1GczOgvFatwYB0QoHXNYFdRDtD57XNZqC7rCjkQtR0eMD0mX1dCNTMzfu6oNpX293tHPTEQtGuScjzzjXTlUe5ScqQnTppun1dTUXVa4H31qLBJaySa8lyoLDbJakqEMW3xLG47yl3ClPSh1UU4_i26Akh=w1700-h956-s-no-gm?authuser=0)"
  },
  {
   "cell_type": "markdown",
   "id": "ed7d46c3-5bde-49f1-a91a-437af7527a54",
   "metadata": {
    "name": "ai_sql_functions_list",
    "collapsed": false
   },
   "source": "![IMAGE](https://lh3.googleusercontent.com/pw/AP1GczOXh3TgEdD5vrl1cDY3RJ3lsemM3B9BdLQoIKIu_XSJPY5iJhcMewal75jq0ddx9x_LD3judc-amBpueb0kvnW4fK9ikqIlDS7FAiYRpSGZoO8t0tvtEQYf7Ng_B2FZk6M7JoaKGG226e6eQw3k_KsA=w960-h540-s-no-gm?authuser=0)"
  },
  {
   "cell_type": "code",
   "id": "476dde50-7bb6-430e-96f3-f07e359bcc65",
   "metadata": {
    "language": "python",
    "name": "package_install"
   },
   "outputs": [],
   "source": "import streamlit as st\nimport pandas as pd\nimport altair as alt\n\nfrom snowflake.snowpark.context import get_active_session\nsession = get_active_session()",
   "execution_count": null
  },
  {
   "cell_type": "markdown",
   "id": "cc8310b9-b361-4770-9c68-af5b97e5b8ee",
   "metadata": {
    "name": "ai_complete_sql",
    "collapsed": false
   },
   "source": "### 1-1-1 : 汎用関数 (AI_COMPLETE) SQL版\n![IMAGE](https://lh3.googleusercontent.com/pw/AP1GczM-zFWUrEyHtZehRNgvwdJdW4H8tlEC04Hdbt2i0ipojb4X_2OAH3e7t2wPKIkft5lB5P-hR-us2bKp1Cma_bGTb7vMWJdg8DHZceZo0xikWuylg4kOPq6FyqUA4katVBJ8YGwRpj6BKfClC6p1jGKo=w3366-h1888-s-no-gm?authuser=0)\n- [Snowflake Document - AI_COMPLETE(Single string)](https://docs.snowflake.com/en/sql-reference/functions/ai_complete-single-string \"AI_COMPLETE (Single string)\")\n- [Snowflake Document - 各CSP/Regionごとの利用可能LLM一覧](https://docs.snowflake.com/en/user-guide/snowflake-cortex/aisql#availability \"Availability\")\n\n\n"
  },
  {
   "cell_type": "code",
   "id": "cb7d21e6-0436-47e2-bb81-6b60a6a3f8e6",
   "metadata": {
    "language": "sql",
    "name": "syntax_ai_complete_sql"
   },
   "outputs": [],
   "source": "-- SELECT AI_COMPLETE(\n--    <model>, <prompt> [ , <model_parameters>, <response_format>, <show_details> ] );",
   "execution_count": null
  },
  {
   "cell_type": "code",
   "id": "d073710a-e8d3-4807-af1a-f52a10c4b78f",
   "metadata": {
    "language": "sql",
    "name": "sample_ai_complete_sql"
   },
   "outputs": [],
   "source": "SET input_model = 'mistral-large2';\nSET input_prompt = '大規模言語モデルとは何ですか?';\n\nSELECT AI_COMPLETE(\n    $input_model, $input_prompt) as response;",
   "execution_count": null
  },
  {
   "cell_type": "code",
   "id": "e2f4e461-16c6-472e-bd17-d7bbfea322f4",
   "metadata": {
    "language": "sql",
    "name": "try_ai_complete_sql"
   },
   "outputs": [],
   "source": "-- AI_COMPLETE関数を使ってみましょう",
   "execution_count": null
  },
  {
   "cell_type": "markdown",
   "id": "a4b42455-2354-4db5-b3a5-0331c065a28e",
   "metadata": {
    "name": "ai_complete_python",
    "collapsed": false
   },
   "source": "### 1-1-2 : 汎用関数 (AI_COMPLETE) Python版\n- [Snowflake Document - snowflake.snowpark.functions.ai_complete](https://docs.snowflake.com/en/developer-guide/snowpark/reference/python/latest/snowpark/api/snowflake.snowpark.functions.ai_complete \"snowflake.snowpark.functions.ai_complete\")\n"
  },
  {
   "cell_type": "code",
   "id": "8f669fc5-c9ed-49d2-922e-413c69d094ed",
   "metadata": {
    "language": "python",
    "name": "sample_ai_complete_python"
   },
   "outputs": [],
   "source": "from snowflake.snowpark.functions import ai_complete\n\n\ninput_model = 'mistral-large2'\ninput_pormpt = '大規模言語モデルとは何ですか?'\n\nresponse = session.range(1).select(\n    ai_complete(\n        model = input_model,\n        prompt = input_pormpt\n    ).alias(\"response\")\n).collect()[0][0]\n\nst.markdown(response.strip('\"').replace('\\\\n', '\\n'))",
   "execution_count": null
  },
  {
   "cell_type": "markdown",
   "id": "bb1b954e-0a97-4141-9a15-96a4cea82c15",
   "metadata": {
    "name": "ai_complete_sql_table",
    "collapsed": false
   },
   "source": "### 1-1-3: AI_COMPLETEをテーブルに適用\n- サンプルのデータベース/テーブルを作成\n- サンプルレコードを作成\n- AI_COMPLETE関数を実行"
  },
  {
   "cell_type": "code",
   "id": "1ec03f7e-a006-4ef1-9786-13825866246d",
   "metadata": {
    "language": "sql",
    "name": "create_sample_db_table"
   },
   "outputs": [],
   "source": "-- サンプルのデータベースを作成\nCREATE OR REPLACE DATABASE LLM_FOR_BEGINNERS_DB;\n\n-- サンプルテーブルを作成\nCREATE\nOR REPLACE TABLE LLM_FOR_BEGINNERS_DB.PUBLIC.INSURANCE_REVIEWS (\n  REVIEW_ID DECIMAL(38, 0) AUTOINCREMENT,\n  CUSTOMER_ID VARCHAR(10),\n  SALES_REP_ID VARCHAR(10),\n  REVIEW_DATE DATE,\n  RATING DECIMAL(1),\n  REVIEW_COMMENT VARCHAR(1000)\n);",
   "execution_count": null
  },
  {
   "cell_type": "code",
   "id": "96695735-3dab-4434-95d2-18e0dcde817c",
   "metadata": {
    "language": "sql",
    "name": "create_sample_records"
   },
   "outputs": [],
   "source": "/* サンプルデータの生成（100レコード） */\nINSERT INTO\n  LLM_FOR_BEGINNERS_DB.PUBLIC.INSURANCE_REVIEWS (\n    CUSTOMER_ID,\n    SALES_REP_ID,\n    REVIEW_DATE,\n    RATING,\n    REVIEW_COMMENT\n  ) WITH SAMPLE_DATA AS (\n    SELECT\n      'C' || LPAD (\n        ROW_NUMBER() OVER (\n          ORDER BY\n            SEQ4 ()\n        ),\n        4,\n        '0'\n      ) AS CUSTOMER_ID,\n      'S' || LPAD (UNIFORM (1, 5, RANDOM ()), 3, '0') AS SALES_REP_ID,\n      DATEADD (DAY, - UNIFORM (1, 365, RANDOM ()), CURRENT_DATE) AS REVIEW_DATE,\n      UNIFORM (1, 5, RANDOM ()) AS RATING,\n      AI_COMPLETE (\n        'mistral-large2',\n        CONCAT (\n          CASE\n            UNIFORM (1, 5, RANDOM ())\n            WHEN 1 THEN '保険の営業マンの説明の分かりやすさについて、'\n            WHEN 2 THEN '保険の営業マンの対応の迅速さについて、'\n            WHEN 3 THEN '保険の営業マンのフォローアップについて、'\n            WHEN 4 THEN '保険の営業マンの提案内容について、'\n            ELSE '保険の営業マンの親身な対応について、'\n          END,\n          CASE\n            WHEN UNIFORM (1, 5, RANDOM ()) = 5 THEN 'とても満足した'\n            WHEN UNIFORM (1, 5, RANDOM ()) = 1 THEN '不満が残る'\n            ELSE '普通の'\n          END,\n          'レビューを具体的に1文で書いてください。'\n        )\n      ) AS REVIEW_COMMENT\n    FROM\n      TABLE (GENERATOR (ROWCOUNT => 100))\n  )\nSELECT\n  *\nFROM\n  SAMPLE_DATA;\n  /* 作成されたデータの確認 */\nSELECT\n  *\nFROM\n  LLM_FOR_BEGINNERS_DB.PUBLIC.INSURANCE_REVIEWS\nORDER BY\n  REVIEW_DATE DESC\nLIMIT\n  5;",
   "execution_count": null
  },
  {
   "cell_type": "code",
   "id": "c2d83b8a-c40b-488a-8235-67d8da19dc39",
   "metadata": {
    "language": "sql",
    "name": "sample_ai_complete_sql_table"
   },
   "outputs": [],
   "source": "CREATE OR REPLACE\nTABLE LLM_FOR_BEGINNERS_DB.PUBLIC.INSURANCE_REVIEWS_ADVICE AS\nSELECT *,\n    AI_COMPLETE('mistral-large2',\n    CONCAT('あなたは保険営業のトップ営業です。次のレビュー文から,次の営業活動にどう活かすべきか教えてください <review>', REVIEW_COMMENT, '</review>')) as AI_ADVICE\nFROM LLM_FOR_BEGINNERS_DB.PUBLIC.INSURANCE_REVIEWS;",
   "execution_count": null
  },
  {
   "cell_type": "code",
   "id": "7c41517f-5338-4526-8781-bfaed9a5ebb8",
   "metadata": {
    "language": "python",
    "name": "show_result_ai_complete_sql_table",
    "codeCollapsed": false
   },
   "outputs": [],
   "source": "df = session.table(\"LLM_FOR_BEGINNERS_DB.PUBLIC.INSURANCE_REVIEWS_ADVICE\")\n\ndf = df.collect()\nnum = st.slider(\"レビュー番号\",0,df.__len__())\n\nreview_comment = df[num]['REVIEW_COMMENT']\nai_advice = df[num]['AI_ADVICE']\n\nst.write(\"### レビューコメント\")\nst.write(review_comment.strip('\"').replace('\\\\n', '\\n'))\n\nst.write(\"### AIのアドバイス\")\nst.write(ai_advice.strip('\"').replace('\\\\n', '\\n'))",
   "execution_count": null
  },
  {
   "cell_type": "code",
   "id": "5f8a017d-2ea4-46c6-a10d-898e4cf130f8",
   "metadata": {
    "language": "sql",
    "name": "try_ai_complete_table"
   },
   "outputs": [],
   "source": "",
   "execution_count": null
  },
  {
   "cell_type": "code",
   "id": "b1d5795a-3ca8-4cf1-8a7a-8ef3a083a7d2",
   "metadata": {
    "language": "python",
    "name": "show_result_try_ai_complete_table"
   },
   "outputs": [],
   "source": "",
   "execution_count": null
  },
  {
   "cell_type": "markdown",
   "id": "4d9c7122-437b-4e83-add0-6434d2d6b211",
   "metadata": {
    "name": "ai_complete_table_structured",
    "collapsed": false
   },
   "source": "### 1-1-4: AI_COMPLETE 構造化出力\n![IMAGE](https://lh3.googleusercontent.com/pw/AP1GczOmD3XpJPMIwT6rzmXRWDK_wDZuiY5Dr4GbX2OVNNsTC7IlLyJpYuQFUkRFR-fWOanoMO0xCfV6XenwjdufIr9n-2-kNlLC_T0Ic7XAQFRPXuXvxP2GG2rkDfbeOPhuiFqGFv71AXQwBrRInXbLfAVT=w3368-h1888-s-no-gm?authuser=0)\n- 出力をJSON形式にすることで, 後続処理で利用可能に"
  },
  {
   "cell_type": "code",
   "id": "c0bc5b93-aa09-4423-b0bd-4d11a75dac2c",
   "metadata": {
    "language": "sql",
    "name": "sample_ai_complete_table_structured"
   },
   "outputs": [],
   "source": "CREATE OR REPLACE\nTABLE LLM_FOR_BEGINNERS_DB.PUBLIC.INSURANCE_REVIEWS_ADVICE_ACTIONS AS\nSELECT *,\n    AI_COMPLETE(\n        model => 'mistral-large2',\n        prompt => CONCAT('あなたは保険営業のトップ営業です。\n            次のレビュー文から,次の営業活動にどう活かすべきかKeep/Problem/Tryのアクションプランをそれぞれ教えてください, なければ「特になし」と表現してください <review>',REVIEW_COMMENT, '</review> 出力の内容として, action_nameはアクションの概要を,action_details_decriptionにはアクションの詳細を,Typeは,Keep,Problem,Tryの3種類から選択してください'),\n        response_format => {\n            'type': 'json',\n                'schema': { \n                    'type': 'object',\n                    'properties': {\n                        'action_plans': {\n                            'type': 'array',\n                            'items': {\n                                'type': 'object',\n                                'properties': {\n                                    'action_name': {'type': 'string'},\n                                    'type': {'type': 'string'},\n                                    'action_details_decription': {'type': 'string'}\n                                },\n                                'required': ['action_name','type', 'action_details_decription']\n                             }\n                         }\n                     }\n                 }\n        }\n    ) as ACTION_PLANS\nFROM LLM_FOR_BEGINNERS_DB.PUBLIC.INSURANCE_REVIEWS_ADVICE;\n\nSELECT review_comment, action_plans\nFROM LLM_FOR_BEGINNERS_DB.PUBLIC.INSURANCE_REVIEWS_ADVICE_ACTIONS LIMIT 10;",
   "execution_count": null
  },
  {
   "cell_type": "code",
   "id": "4420725d-4588-4a23-9637-a0919120e498",
   "metadata": {
    "language": "python",
    "name": "show_result_ai_complete_structured_sql_python"
   },
   "outputs": [],
   "source": "import json\n\ndf = session.table(\"LLM_FOR_BEGINNERS_DB.PUBLIC.INSURANCE_REVIEWS_ADVICE_ACTIONS\")\n\ndf = df.collect()\nnum = st.slider(\"レビュー番号\",0,100)\n\nreview_comment = df[num]['REVIEW_COMMENT']\nai_advice = df[num]['AI_ADVICE']\naction_plans = df[num]['ACTION_PLANS']\n\nst.write(\"### レビューコメント\")\nst.write(review_comment.strip('\"').replace('\\\\n', '\\n'))\n\nst.write(\"### AIのアドバイス\")\nst.write(ai_advice.strip('\"').replace('\\\\n', '\\n'))\n\nst.write(\"### アクションプラン\")\n# JSON文字列をPythonの辞書に変換\ndata = json.loads(action_plans)\n\n# action_plansリストを取得\naction_plans = data.get(\"action_plans\", [])\n\n# 分解して表示\nfor i, action in enumerate(action_plans, start=1):\n    st.write(f\"#### アクションプラン{i} ({action.get('type')}): {action.get('action_name')}\")\n    st.write(f\" - {action.get('action_details_decription')}\")\n",
   "execution_count": null
  },
  {
   "cell_type": "markdown",
   "id": "7a001fce-74bc-490a-affc-00f9408d2f22",
   "metadata": {
    "name": "SENTIMENT_TRANSLATE",
    "collapsed": false
   },
   "source": "### 1-2. SENTIMENT\n![IMAGE](https://lh3.googleusercontent.com/pw/AP1GczPGgkdTfDlgL3uWH3V3vom9lECFrQkIMDZG0QqxMlGwaAcqYMgXVpyCTeC5sR0Tu8SHCP_QbXnqgmo9DKocLmystfhMvNHsEHYVQrLD2PHxo61z5ODIlxOmV8uOHP9eAHgDWTiNrXGECPpdFU_BIrMy=w3366-h1888-s-no-gm?authuser=0)\n\n![IMAGE](https://lh3.googleusercontent.com/pw/AP1GczOiN4KxfGjyvlqf0WOyVsXjAEhwThyRaYmIVKh4siXlTtt2ERYniY6qjBrR3WPtOkRlJNZrvJ8_0UtLsJPkK2UbO5lVGd9bXzkobJIvQrewEDD3OqWB3xJXZmfMrHB9iBSjV-9QmS9NPcxPeckozk_u=w3366-h1888-s-no-gm?authuser=0)"
  },
  {
   "cell_type": "code",
   "id": "6723bae7-9d70-41d5-a656-14c34dd13952",
   "metadata": {
    "language": "sql",
    "name": "sample_sentiment_translate"
   },
   "outputs": [],
   "source": "CREATE OR REPLACE TABLE LLM_FOR_BEGINNERS_DB.PUBLIC.INSURANCE_REVIEWS_SENTIMENT AS\nSELECT *, \n       SNOWFLAKE.CORTEX.SENTIMENT(\n            SNOWFLAKE.CORTEX.TRANSLATE(review_comment ,'ja','en')\n        ) as sentiment_score,\n        CASE\n          WHEN sentiment_score >= 0.5 THEN 'Positive'\n          WHEN sentiment_score >= -0.5 THEN 'Neutral'\n          ELSE 'Negative'\n        END AS sentiment\nFROM LLM_FOR_BEGINNERS_DB.PUBLIC.INSURANCE_REVIEWS_ADVICE_ACTIONS;\n\nSELECT review_comment, sentiment, sentiment_score \nFROM LLM_FOR_BEGINNERS_DB.PUBLIC.INSURANCE_REVIEWS_SENTIMENT;",
   "execution_count": null
  },
  {
   "cell_type": "code",
   "id": "7c22d97a-6c0a-4344-8862-4a3d0295854e",
   "metadata": {
    "language": "sql",
    "name": "extract_sentiment_negative"
   },
   "outputs": [],
   "source": "-- ネガティブなコメントのみを抽出\n\nSELECT review_comment, sentiment, sentiment_score \nFROM LLM_FOR_BEGINNERS_DB.PUBLIC.INSURANCE_REVIEWS_SENTIMENT\nWHERE sentiment = 'Negative';",
   "execution_count": null
  },
  {
   "cell_type": "markdown",
   "id": "e62a6fe3-dd4f-46b6-930c-5820a496b604",
   "metadata": {
    "name": "ai_filter",
    "collapsed": false
   },
   "source": "### 1-3. AI_FILTER\n\n![IMAGE](https://lh3.googleusercontent.com/pw/AP1GczMf3eI8zbJy3V1CoUahPvtAT26Fwbb8h73jOxGYn3UpcGPl5iWcahKke8c74d99bnkS2fPtpAaivH0LCo3d2QuLKRnoFKtQCVsfcWfzkrkRME7jTzAbs5uoB5gh8jjHr_NdJmJehuBbubAFAiVZXS4J=w3366-h1888-s-no-gm?authuser=0)"
  },
  {
   "cell_type": "code",
   "id": "50a345c7-f682-41f8-a1c0-ecf6c7a518d5",
   "metadata": {
    "language": "sql",
    "name": "sample_ai_filter_sql"
   },
   "outputs": [],
   "source": "CREATE OR REPLACE\nTABLE LLM_FOR_BEGINNERS_DB.PUBLIC.INSURANCE_NEGATIVE_REVIEWS AS\nSELECT *\nFROM LLM_FOR_BEGINNERS_DB.PUBLIC.INSURANCE_REVIEWS_SENTIMENT\nWHERE AI_FILTER(CONCAT('ネガティブなコメントが含まれるレビュー: ', REVIEW_COMMENT));\n\nSELECT review_comment, sentiment, sentiment_score \nFROM LLM_FOR_BEGINNERS_DB.PUBLIC.INSURANCE_NEGATIVE_REVIEWS;",
   "execution_count": null
  },
  {
   "cell_type": "code",
   "id": "d5cc06ed-0468-4312-b17f-1b96dd191848",
   "metadata": {
    "language": "python",
    "name": "show_result_ai_filter_sql_table"
   },
   "outputs": [],
   "source": "df = session.table(\"LLM_FOR_BEGINNERS_DB.PUBLIC.INSURANCE_NEGATIVE_REVIEWS\")\n\ndf = df.collect()\nnum = st.slider(\"レビュー番号\",0,df.__len__())\n\nreview_comment = df[num]['REVIEW_COMMENT']\nai_advice = df[num]['AI_ADVICE']\naction_plans = df[num]['ACTION_PLANS']\n\nst.write(\"### レビューコメント\")\nst.write(review_comment.strip('\"').replace('\\\\n', '\\n'))\n\n\ncol1, col2 = st.columns(2)\nwith col1:\n    st.write(\"### AIのアドバイス\")\n    st.write(ai_advice.strip('\"').replace('\\\\n', '\\n'))\nwith col2:\n    st.write(\"### アクションプラン\")\n    # JSON文字列をPythonの辞書に変換\n    data = json.loads(action_plans)\n    \n    # action_plansリストを取得してtypeで並び替え\n    action_plans = sorted(data.get(\"action_plans\", []), key=lambda x: x.get('type', ''))\n    \n    \n    # 分解して表示\n    for i, action in enumerate(action_plans, start=1):\n        st.write(f\"#### アクションプラン{i} ({action.get('type')}): {action.get('action_name')}\")\n        st.write(f\" - {action.get('action_details_decription')}\")\n",
   "execution_count": null
  },
  {
   "cell_type": "code",
   "id": "a4023d31-e6ca-4fef-a6b2-8a47b4ef3d43",
   "metadata": {
    "language": "sql",
    "name": "try_ai_filter"
   },
   "outputs": [],
   "source": "",
   "execution_count": null
  },
  {
   "cell_type": "markdown",
   "id": "d1c70fd1-f24f-4d48-8f48-d6dd16c40682",
   "metadata": {
    "name": "ai_agg",
    "collapsed": false
   },
   "source": "### 1-4. AI_SUMMARIZE_AGG / AI_AGG\n\n![IMAGE](https://lh3.googleusercontent.com/pw/AP1GczPYQJQ-57pxftQe4XSa5481KbXu1rhBljpVPyuBB9_66r-o-DpfkCJXbkB7EzlW3o-a-afqPj0idNQDWOzPP03aHL7vZRoHY5cb6vUUcCi80crk0hZfn4sd8qgiK-LSwMlOuYBDIbYdY0OwgfOZ2MRR=w3366-h1888-s-no-gm?authuser=0)\n\n![IMAGE](https://lh3.googleusercontent.com/pw/AP1GczP7ZZ1CEjRkf6GNfOXbi4mOMMi0yyyvAmBXN0AGidK0jid_3-XwqGBc2W1JaSk6iF7yH5mWA41Hr29kk2Wnaw57xXpSGHRbnQO5XZ2mFAUXgksq8mdpF9S3edVAew8SvFOdz0a1PwAQlfEHJ1i96BOT=w3366-h1888-s-no-gm?authuser=0)"
  },
  {
   "cell_type": "code",
   "id": "6e8d75c2-b81a-4ee4-8c9c-49527f417c75",
   "metadata": {
    "language": "sql",
    "name": "sample_ai_agg"
   },
   "outputs": [],
   "source": "CREATE OR REPLACE TABLE LLM_FOR_BEGINNERS_DB.PUBLIC.INSURANCE_NEGATIVE_REVIEWS_SUMMARIZE AS\nSELECT SALES_REP_ID,\n       min(review_date) as min_review_date,\n       max(review_date) as max_review_date,\n       count(*) as review_count,\n       avg(sentiment_score) as avg_sentiment_score,\n       AI_SUMMARIZE_AGG(review_comment) as summarize,\n       AI_AGG(review_comment, 'レビュー内容から,業務改善のアクションプランを日本語で教えてください') as actions\nFROM LLM_FOR_BEGINNERS_DB.PUBLIC.INSURANCE_NEGATIVE_REVIEWS_ADVICE\nGROUP BY SALES_REP_ID\nORDER BY SALES_REP_ID\n;\n\nSELECT *\nFROM LLM_FOR_BEGINNERS_DB.PUBLIC.INSURANCE_NEGATIVE_REVIEWS_SUMMARIZE;",
   "execution_count": null
  },
  {
   "cell_type": "code",
   "id": "0f8aeb1a-7ad6-4ccc-8929-a67501425d81",
   "metadata": {
    "language": "python",
    "name": "show_result_ai_agg"
   },
   "outputs": [],
   "source": "import streamlit as st\nimport pandas as pd\nfrom snowflake.snowpark.context import get_active_session\n\n# セッションの取得\nsession = get_active_session()\n\n# データの取得\ndf = session.table('LLM_FOR_BEGINNERS_DB.PUBLIC.INSURANCE_NEGATIVE_REVIEWS_SUMMARIZE').to_pandas()\n\n# タイトル\nst.title(\"ネガティブレビュー分析ダッシュボード\")\n\n# 営業マンID選択\nsales_rep_id = st.selectbox(\n    \"営業マンIDを選択してください\",\n    options=sorted(df['SALES_REP_ID'].unique())\n)\n\n# 選択された営業マンのデータを取得\nselected_data = df[df['SALES_REP_ID'] == sales_rep_id].iloc[0]\n\n# メトリクスの表示\ncol1, col2 = st.columns(2)\nwith col1:\n    st.metric(\"レビュー件数\", selected_data['REVIEW_COUNT'])\nwith col2:\n    st.metric(\"平均センチメントスコア\", f\"{selected_data['AVG_SENTIMENT_SCORE']:.3f}\")\n\nst.metric(\"レビュー期間\", \n          f\"{selected_data['MIN_REVIEW_DATE'].strftime('%Y/%m/%d')} - {selected_data['MAX_REVIEW_DATE'].strftime('%Y/%m/%d')}\")\n\n# サマリーの表示\nst.header(\"レビューサマリー\")\nst.write(selected_data['SUMMARIZE'])\n\n# アクションプランの表示\nst.header(\"推奨アクションプラン\")\nst.write(selected_data['ACTIONS'])\n\n# 全体データの表示（折りたたみ可能）\nwith st.expander(\"全データを表示\"):\n    st.dataframe(\n        df.style.format({\n            'AVG_SENTIMENT_SCORE': '{:.3f}',\n            'MIN_REVIEW_DATE': '{:%Y/%m/%d}',\n            'MAX_REVIEW_DATE': '{:%Y/%m/%d}'\n        })\n    )\n",
   "execution_count": null
  },
  {
   "cell_type": "markdown",
   "id": "2e8823a7-5a19-44ed-8665-a5a69c2f1c59",
   "metadata": {
    "name": "ai_similarity",
    "collapsed": false
   },
   "source": "### 1-5. AI_SIMILARITY\n\n![IMAGE](https://lh3.googleusercontent.com/pw/AP1GczOlSon-iliWn2SC3rUWxhsRxgTdznhcwX0WExCkjozWCNEyQOTLthDEnue_I6f6B9T5q8yLnuTz0xpoBflIsZAi9vK-t2NqiYbxNk3JCnV-oFfw0iy3CN4lcyvRi_h3X-ejjI2HsJqItgIkHvJft1us=w3366-h1888-s-no-gm?authuser=0)"
  },
  {
   "cell_type": "code",
   "id": "54646032-8623-4532-a0f0-1ac36330d4f3",
   "metadata": {
    "language": "sql",
    "name": "sample_ai_similarity"
   },
   "outputs": [],
   "source": "CREATE OR REPLACE\nTABLE LLM_FOR_BEGINNERS_DB.PUBLIC.SALES_ACTION_PLAN_SIM AS\nSELECT\n  a.SALES_REP_ID AS SALES_REP_ID_1,\n  b.SALES_REP_ID AS SALES_REP_ID_2,\n  AI_SIMILARITY (a.KPT, b.KPT) AS SIMILARITY_SCORE\nFROM\n  LLM_FOR_BEGINNERS_DB.PUBLIC.SALES_ACTION_PLAN AS a\n  CROSS JOIN LLM_FOR_BEGINNERS_DB.PUBLIC.SALES_ACTION_PLAN AS b\nWHERE\n  a.SALES_REP_ID < b.SALES_REP_ID\n  /* 重複を避けるため */\nORDER BY\n  a.SALES_REP_ID ASC,SIMILARITY_SCORE DESC ;",
   "execution_count": null
  },
  {
   "cell_type": "code",
   "id": "d3d8b118-f2f5-4065-982e-346eeaaea48d",
   "metadata": {
    "language": "python",
    "name": "show_result_ai_similarity"
   },
   "outputs": [],
   "source": "import streamlit as st\nimport pandas as pd\nimport altair as alt\nfrom snowflake.snowpark.context import get_active_session\n\n# セッションの取得\nsession = get_active_session()\n\n# データの取得\ndf = session.table('LLM_FOR_BEGINNERS_DB.PUBLIC.SALES_ACTION_PLAN_SIM').to_pandas()\n\n# 既存のペアに自分自身との類似度(1.0)を追加\nunique_ids = sorted(set(df['SALES_REP_ID_1'].unique()) | set(df['SALES_REP_ID_2'].unique()))\nself_pairs = pd.DataFrame({\n    'SALES_REP_ID_1': unique_ids,\n    'SALES_REP_ID_2': unique_ids,\n    'SIMILARITY_SCORE': 1.0\n})\n\n# 全てのデータを結合\ndf = pd.concat([df, self_pairs])\n\n# 対称行列を作成するために、ID_1とID_2を入れ替えたデータも追加\nreversed_pairs = df[df['SALES_REP_ID_1'] != df['SALES_REP_ID_2']].copy()\nreversed_pairs.columns = ['SALES_REP_ID_2', 'SALES_REP_ID_1', 'SIMILARITY_SCORE']\ndf = pd.concat([df, reversed_pairs])\n\n# 重複を削除\ndf = df.drop_duplicates()\n\n# ヒートマップの作成\nheatmap = alt.Chart(df).mark_rect().encode(\n    x=alt.X('SALES_REP_ID_1:N', title='営業マンID', sort=unique_ids),\n    y=alt.Y('SALES_REP_ID_2:N', title='営業マンID', sort=unique_ids),\n    color=alt.Color('SIMILARITY_SCORE:Q', \n                    scale=alt.Scale(scheme='viridis'),\n                    title='類似度スコア')\n).properties(\n    title='営業マン間のアクションプラン類似度',\n    width=500,\n    height=400\n)\n\n# Streamlitで表示\nst.altair_chart(heatmap, use_container_width=True)\n",
   "execution_count": null
  }
 ]
}